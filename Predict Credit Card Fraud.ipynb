{
 "cells": [
  {
   "cell_type": "markdown",
   "id": "1b1aabbc",
   "metadata": {},
   "source": [
    "# Predict Credit Card Fraud\n"
   ]
  },
  {
   "cell_type": "code",
   "execution_count": 1,
   "id": "c0a7df45",
   "metadata": {},
   "outputs": [],
   "source": [
    "import os\n",
    "os.chdir(r'C:\\Users\\Pedram\\Documents\\GitHub\\Credit_Card_Fraud_Prediction')"
   ]
  },
  {
   "cell_type": "markdown",
   "id": "854dd2e6",
   "metadata": {},
   "source": [
    "The data on 1000 simulated credit card transactions is found in the `file transactions_modified.csv`. We'll start by loading this data into a pandas DataFrame named `transactions`."
   ]
  },
  {
   "cell_type": "code",
   "execution_count": 2,
   "id": "b0537c3f",
   "metadata": {},
   "outputs": [
    {
     "name": "stdout",
     "output_type": "stream",
     "text": [
      "   step      type      amount     nameOrig  oldbalanceOrg  newbalanceOrig  \\\n",
      "0   206  CASH_OUT    62927.08   C473782114           0.00            0.00   \n",
      "1   380   PAYMENT    32851.57  C1915112886           0.00            0.00   \n",
      "2   570  CASH_OUT  1131750.38  C1396198422     1131750.38            0.00   \n",
      "3   184  CASH_OUT    60519.74   C982551468       60519.74            0.00   \n",
      "4   162   CASH_IN    46716.01  C1759889425     7668050.60      7714766.61   \n",
      "\n",
      "      nameDest  oldbalanceDest  newbalanceDest  isFraud  isPayment  \\\n",
      "0  C2096898696       649420.67       712347.75        0          0   \n",
      "1   M916879292            0.00            0.00        0          1   \n",
      "2  C1612235515       313070.53      1444820.92        1          0   \n",
      "3  C1378644910        54295.32       182654.50        1          0   \n",
      "4  C2059152908      2125468.75      2078752.75        0          0   \n",
      "\n",
      "   isMovement  accountDiff  \n",
      "0           1    649420.67  \n",
      "1           0         0.00  \n",
      "2           1    818679.85  \n",
      "3           1      6224.42  \n",
      "4           0   5542581.85  \n",
      "<class 'pandas.core.frame.DataFrame'>\n",
      "RangeIndex: 1000 entries, 0 to 999\n",
      "Data columns (total 13 columns):\n",
      " #   Column          Non-Null Count  Dtype  \n",
      "---  ------          --------------  -----  \n",
      " 0   step            1000 non-null   int64  \n",
      " 1   type            1000 non-null   object \n",
      " 2   amount          1000 non-null   float64\n",
      " 3   nameOrig        1000 non-null   object \n",
      " 4   oldbalanceOrg   1000 non-null   float64\n",
      " 5   newbalanceOrig  1000 non-null   float64\n",
      " 6   nameDest        1000 non-null   object \n",
      " 7   oldbalanceDest  1000 non-null   float64\n",
      " 8   newbalanceDest  1000 non-null   float64\n",
      " 9   isFraud         1000 non-null   int64  \n",
      " 10  isPayment       1000 non-null   int64  \n",
      " 11  isMovement      1000 non-null   int64  \n",
      " 12  accountDiff     1000 non-null   float64\n",
      "dtypes: float64(6), int64(4), object(3)\n",
      "memory usage: 101.7+ KB\n",
      "None\n"
     ]
    }
   ],
   "source": [
    "import seaborn\n",
    "import pandas as pd\n",
    "import numpy as np\n",
    "import matplotlib.pyplot as plt\n",
    "from sklearn.linear_model import LogisticRegression\n",
    "from sklearn.model_selection import train_test_split\n",
    "from sklearn.preprocessing import StandardScaler\n",
    "# Load the data\n",
    "transactions = pd.read_csv('transaction_modified.csv')\n",
    "print(transactions.head())\n",
    "print(transactions.info())"
   ]
  },
  {
   "cell_type": "code",
   "execution_count": 3,
   "id": "dece4d25",
   "metadata": {},
   "outputs": [
    {
     "name": "stdout",
     "output_type": "stream",
     "text": [
      "The num of fraudulent transactions:  282\n"
     ]
    }
   ],
   "source": [
    "# How many fraudulent transactions?\n",
    "print('The num of fraudulent transactions: ', transactions.isFraud.sum())"
   ]
  },
  {
   "cell_type": "markdown",
   "id": "4176629b",
   "metadata": {},
   "source": [
    "2. Summary statistics of `amount` column to have a general view of the distribution."
   ]
  },
  {
   "cell_type": "code",
   "execution_count": 4,
   "id": "f51a8e71",
   "metadata": {},
   "outputs": [
    {
     "data": {
      "text/plain": [
       "count    1.000000e+03\n",
       "mean     5.373080e+05\n",
       "std      1.423692e+06\n",
       "min      0.000000e+00\n",
       "25%      2.933705e+04\n",
       "50%      1.265305e+05\n",
       "75%      3.010378e+05\n",
       "max      1.000000e+07\n",
       "Name: amount, dtype: float64"
      ]
     },
     "execution_count": 4,
     "metadata": {},
     "output_type": "execute_result"
    }
   ],
   "source": [
    "# Summary statistics on amount column\n",
    "transactions['amount'].describe()"
   ]
  },
  {
   "cell_type": "markdown",
   "id": "400d2d02",
   "metadata": {},
   "source": [
    "3. A new column named `isPayment` will be introduced. This column will be assigned a value of `1` in cases where the type is designated as either \"PAYMENT\" or \"DEBIT,\" and a value of `0` in other instances."
   ]
  },
  {
   "cell_type": "code",
   "execution_count": 5,
   "id": "616944d6",
   "metadata": {},
   "outputs": [],
   "source": [
    "transactions['isPayment'] = 0\n",
    "transactions.loc[transactions['type'].isin(['PAYMENT', 'DEBIT']), 'isPayment'] = 1"
   ]
  },
  {
   "cell_type": "code",
   "execution_count": 6,
   "id": "891b0aa5",
   "metadata": {},
   "outputs": [
    {
     "data": {
      "text/html": [
       "<div>\n",
       "<style scoped>\n",
       "    .dataframe tbody tr th:only-of-type {\n",
       "        vertical-align: middle;\n",
       "    }\n",
       "\n",
       "    .dataframe tbody tr th {\n",
       "        vertical-align: top;\n",
       "    }\n",
       "\n",
       "    .dataframe thead th {\n",
       "        text-align: right;\n",
       "    }\n",
       "</style>\n",
       "<table border=\"1\" class=\"dataframe\">\n",
       "  <thead>\n",
       "    <tr style=\"text-align: right;\">\n",
       "      <th></th>\n",
       "      <th>step</th>\n",
       "      <th>amount</th>\n",
       "      <th>oldbalanceOrg</th>\n",
       "      <th>newbalanceOrig</th>\n",
       "      <th>oldbalanceDest</th>\n",
       "      <th>newbalanceDest</th>\n",
       "      <th>isFraud</th>\n",
       "      <th>isPayment</th>\n",
       "      <th>isMovement</th>\n",
       "      <th>accountDiff</th>\n",
       "    </tr>\n",
       "  </thead>\n",
       "  <tbody>\n",
       "    <tr>\n",
       "      <th>count</th>\n",
       "      <td>214.000000</td>\n",
       "      <td>214.000000</td>\n",
       "      <td>214.000000</td>\n",
       "      <td>214.000000</td>\n",
       "      <td>214.0</td>\n",
       "      <td>214.0</td>\n",
       "      <td>214.0</td>\n",
       "      <td>214.0</td>\n",
       "      <td>214.0</td>\n",
       "      <td>214.000000</td>\n",
       "    </tr>\n",
       "    <tr>\n",
       "      <th>mean</th>\n",
       "      <td>247.906542</td>\n",
       "      <td>13442.746308</td>\n",
       "      <td>52711.049720</td>\n",
       "      <td>46573.490701</td>\n",
       "      <td>0.0</td>\n",
       "      <td>0.0</td>\n",
       "      <td>0.0</td>\n",
       "      <td>1.0</td>\n",
       "      <td>0.0</td>\n",
       "      <td>52711.049720</td>\n",
       "    </tr>\n",
       "    <tr>\n",
       "      <th>std</th>\n",
       "      <td>127.425429</td>\n",
       "      <td>14006.458934</td>\n",
       "      <td>105727.989882</td>\n",
       "      <td>102165.163351</td>\n",
       "      <td>0.0</td>\n",
       "      <td>0.0</td>\n",
       "      <td>0.0</td>\n",
       "      <td>0.0</td>\n",
       "      <td>0.0</td>\n",
       "      <td>105727.989882</td>\n",
       "    </tr>\n",
       "    <tr>\n",
       "      <th>min</th>\n",
       "      <td>1.000000</td>\n",
       "      <td>206.690000</td>\n",
       "      <td>0.000000</td>\n",
       "      <td>0.000000</td>\n",
       "      <td>0.0</td>\n",
       "      <td>0.0</td>\n",
       "      <td>0.0</td>\n",
       "      <td>1.0</td>\n",
       "      <td>0.0</td>\n",
       "      <td>0.000000</td>\n",
       "    </tr>\n",
       "    <tr>\n",
       "      <th>25%</th>\n",
       "      <td>177.250000</td>\n",
       "      <td>3442.995000</td>\n",
       "      <td>0.000000</td>\n",
       "      <td>0.000000</td>\n",
       "      <td>0.0</td>\n",
       "      <td>0.0</td>\n",
       "      <td>0.0</td>\n",
       "      <td>1.0</td>\n",
       "      <td>0.0</td>\n",
       "      <td>0.000000</td>\n",
       "    </tr>\n",
       "    <tr>\n",
       "      <th>50%</th>\n",
       "      <td>252.500000</td>\n",
       "      <td>8719.545000</td>\n",
       "      <td>3493.000000</td>\n",
       "      <td>0.000000</td>\n",
       "      <td>0.0</td>\n",
       "      <td>0.0</td>\n",
       "      <td>0.0</td>\n",
       "      <td>1.0</td>\n",
       "      <td>0.0</td>\n",
       "      <td>3493.000000</td>\n",
       "    </tr>\n",
       "    <tr>\n",
       "      <th>75%</th>\n",
       "      <td>331.750000</td>\n",
       "      <td>19097.352500</td>\n",
       "      <td>52815.672500</td>\n",
       "      <td>44299.232500</td>\n",
       "      <td>0.0</td>\n",
       "      <td>0.0</td>\n",
       "      <td>0.0</td>\n",
       "      <td>1.0</td>\n",
       "      <td>0.0</td>\n",
       "      <td>52815.672500</td>\n",
       "    </tr>\n",
       "    <tr>\n",
       "      <th>max</th>\n",
       "      <td>596.000000</td>\n",
       "      <td>76894.320000</td>\n",
       "      <td>610962.000000</td>\n",
       "      <td>603792.350000</td>\n",
       "      <td>0.0</td>\n",
       "      <td>0.0</td>\n",
       "      <td>0.0</td>\n",
       "      <td>1.0</td>\n",
       "      <td>0.0</td>\n",
       "      <td>610962.000000</td>\n",
       "    </tr>\n",
       "  </tbody>\n",
       "</table>\n",
       "</div>"
      ],
      "text/plain": [
       "             step        amount  oldbalanceOrg  newbalanceOrig  \\\n",
       "count  214.000000    214.000000     214.000000      214.000000   \n",
       "mean   247.906542  13442.746308   52711.049720    46573.490701   \n",
       "std    127.425429  14006.458934  105727.989882   102165.163351   \n",
       "min      1.000000    206.690000       0.000000        0.000000   \n",
       "25%    177.250000   3442.995000       0.000000        0.000000   \n",
       "50%    252.500000   8719.545000    3493.000000        0.000000   \n",
       "75%    331.750000  19097.352500   52815.672500    44299.232500   \n",
       "max    596.000000  76894.320000  610962.000000   603792.350000   \n",
       "\n",
       "       oldbalanceDest  newbalanceDest  isFraud  isPayment  isMovement  \\\n",
       "count           214.0           214.0    214.0      214.0       214.0   \n",
       "mean              0.0             0.0      0.0        1.0         0.0   \n",
       "std               0.0             0.0      0.0        0.0         0.0   \n",
       "min               0.0             0.0      0.0        1.0         0.0   \n",
       "25%               0.0             0.0      0.0        1.0         0.0   \n",
       "50%               0.0             0.0      0.0        1.0         0.0   \n",
       "75%               0.0             0.0      0.0        1.0         0.0   \n",
       "max               0.0             0.0      0.0        1.0         0.0   \n",
       "\n",
       "         accountDiff  \n",
       "count     214.000000  \n",
       "mean    52711.049720  \n",
       "std    105727.989882  \n",
       "min         0.000000  \n",
       "25%         0.000000  \n",
       "50%      3493.000000  \n",
       "75%     52815.672500  \n",
       "max    610962.000000  "
      ]
     },
     "execution_count": 6,
     "metadata": {},
     "output_type": "execute_result"
    }
   ],
   "source": [
    "payment = transactions[transactions.type == 'PAYMENT']\n",
    "payment.describe()"
   ]
  },
  {
   "cell_type": "code",
   "execution_count": 7,
   "id": "c9676a4f",
   "metadata": {},
   "outputs": [
    {
     "data": {
      "text/html": [
       "<div>\n",
       "<style scoped>\n",
       "    .dataframe tbody tr th:only-of-type {\n",
       "        vertical-align: middle;\n",
       "    }\n",
       "\n",
       "    .dataframe tbody tr th {\n",
       "        vertical-align: top;\n",
       "    }\n",
       "\n",
       "    .dataframe thead th {\n",
       "        text-align: right;\n",
       "    }\n",
       "</style>\n",
       "<table border=\"1\" class=\"dataframe\">\n",
       "  <thead>\n",
       "    <tr style=\"text-align: right;\">\n",
       "      <th></th>\n",
       "      <th>step</th>\n",
       "      <th>amount</th>\n",
       "      <th>oldbalanceOrg</th>\n",
       "      <th>newbalanceOrig</th>\n",
       "      <th>oldbalanceDest</th>\n",
       "      <th>newbalanceDest</th>\n",
       "      <th>isFraud</th>\n",
       "      <th>isPayment</th>\n",
       "      <th>isMovement</th>\n",
       "      <th>accountDiff</th>\n",
       "    </tr>\n",
       "  </thead>\n",
       "  <tbody>\n",
       "    <tr>\n",
       "      <th>count</th>\n",
       "      <td>6.000000</td>\n",
       "      <td>6.000000</td>\n",
       "      <td>6.000000</td>\n",
       "      <td>6.000000</td>\n",
       "      <td>6.000000e+00</td>\n",
       "      <td>6.000000e+00</td>\n",
       "      <td>6.0</td>\n",
       "      <td>6.0</td>\n",
       "      <td>6.0</td>\n",
       "      <td>6.000000e+00</td>\n",
       "    </tr>\n",
       "    <tr>\n",
       "      <th>mean</th>\n",
       "      <td>213.000000</td>\n",
       "      <td>11848.195000</td>\n",
       "      <td>48101.151667</td>\n",
       "      <td>37769.358333</td>\n",
       "      <td>1.196419e+06</td>\n",
       "      <td>1.208268e+06</td>\n",
       "      <td>0.0</td>\n",
       "      <td>1.0</td>\n",
       "      <td>0.0</td>\n",
       "      <td>1.148318e+06</td>\n",
       "    </tr>\n",
       "    <tr>\n",
       "      <th>std</th>\n",
       "      <td>132.152942</td>\n",
       "      <td>20965.386989</td>\n",
       "      <td>41091.540004</td>\n",
       "      <td>35222.822343</td>\n",
       "      <td>1.782576e+06</td>\n",
       "      <td>1.776041e+06</td>\n",
       "      <td>0.0</td>\n",
       "      <td>0.0</td>\n",
       "      <td>0.0</td>\n",
       "      <td>1.788929e+06</td>\n",
       "    </tr>\n",
       "    <tr>\n",
       "      <th>min</th>\n",
       "      <td>11.000000</td>\n",
       "      <td>449.190000</td>\n",
       "      <td>0.000000</td>\n",
       "      <td>0.000000</td>\n",
       "      <td>5.766194e+04</td>\n",
       "      <td>6.676035e+04</td>\n",
       "      <td>0.0</td>\n",
       "      <td>1.0</td>\n",
       "      <td>0.0</td>\n",
       "      <td>5.766194e+04</td>\n",
       "    </tr>\n",
       "    <tr>\n",
       "      <th>25%</th>\n",
       "      <td>144.750000</td>\n",
       "      <td>1597.637500</td>\n",
       "      <td>28783.250000</td>\n",
       "      <td>26032.195000</td>\n",
       "      <td>1.592953e+05</td>\n",
       "      <td>1.753036e+05</td>\n",
       "      <td>0.0</td>\n",
       "      <td>1.0</td>\n",
       "      <td>0.0</td>\n",
       "      <td>9.018931e+04</td>\n",
       "    </tr>\n",
       "    <tr>\n",
       "      <th>50%</th>\n",
       "      <td>217.500000</td>\n",
       "      <td>3096.445000</td>\n",
       "      <td>31489.500000</td>\n",
       "      <td>29453.945000</td>\n",
       "      <td>4.461907e+05</td>\n",
       "      <td>4.735098e+05</td>\n",
       "      <td>0.0</td>\n",
       "      <td>1.0</td>\n",
       "      <td>0.0</td>\n",
       "      <td>3.723600e+05</td>\n",
       "    </tr>\n",
       "    <tr>\n",
       "      <th>75%</th>\n",
       "      <td>325.500000</td>\n",
       "      <td>7644.182500</td>\n",
       "      <td>77329.682500</td>\n",
       "      <td>35960.115000</td>\n",
       "      <td>1.218794e+06</td>\n",
       "      <td>1.219776e+06</td>\n",
       "      <td>0.0</td>\n",
       "      <td>1.0</td>\n",
       "      <td>0.0</td>\n",
       "      <td>1.170148e+06</td>\n",
       "    </tr>\n",
       "    <tr>\n",
       "      <th>max</th>\n",
       "      <td>350.000000</td>\n",
       "      <td>54188.960000</td>\n",
       "      <td>105137.000000</td>\n",
       "      <td>104687.810000</td>\n",
       "      <td>4.688481e+06</td>\n",
       "      <td>4.691393e+06</td>\n",
       "      <td>0.0</td>\n",
       "      <td>1.0</td>\n",
       "      <td>0.0</td>\n",
       "      <td>4.655318e+06</td>\n",
       "    </tr>\n",
       "  </tbody>\n",
       "</table>\n",
       "</div>"
      ],
      "text/plain": [
       "             step        amount  oldbalanceOrg  newbalanceOrig  \\\n",
       "count    6.000000      6.000000       6.000000        6.000000   \n",
       "mean   213.000000  11848.195000   48101.151667    37769.358333   \n",
       "std    132.152942  20965.386989   41091.540004    35222.822343   \n",
       "min     11.000000    449.190000       0.000000        0.000000   \n",
       "25%    144.750000   1597.637500   28783.250000    26032.195000   \n",
       "50%    217.500000   3096.445000   31489.500000    29453.945000   \n",
       "75%    325.500000   7644.182500   77329.682500    35960.115000   \n",
       "max    350.000000  54188.960000  105137.000000   104687.810000   \n",
       "\n",
       "       oldbalanceDest  newbalanceDest  isFraud  isPayment  isMovement  \\\n",
       "count    6.000000e+00    6.000000e+00      6.0        6.0         6.0   \n",
       "mean     1.196419e+06    1.208268e+06      0.0        1.0         0.0   \n",
       "std      1.782576e+06    1.776041e+06      0.0        0.0         0.0   \n",
       "min      5.766194e+04    6.676035e+04      0.0        1.0         0.0   \n",
       "25%      1.592953e+05    1.753036e+05      0.0        1.0         0.0   \n",
       "50%      4.461907e+05    4.735098e+05      0.0        1.0         0.0   \n",
       "75%      1.218794e+06    1.219776e+06      0.0        1.0         0.0   \n",
       "max      4.688481e+06    4.691393e+06      0.0        1.0         0.0   \n",
       "\n",
       "        accountDiff  \n",
       "count  6.000000e+00  \n",
       "mean   1.148318e+06  \n",
       "std    1.788929e+06  \n",
       "min    5.766194e+04  \n",
       "25%    9.018931e+04  \n",
       "50%    3.723600e+05  \n",
       "75%    1.170148e+06  \n",
       "max    4.655318e+06  "
      ]
     },
     "execution_count": 7,
     "metadata": {},
     "output_type": "execute_result"
    }
   ],
   "source": [
    "payment = transactions[transactions.type == 'DEBIT']\n",
    "payment.describe()"
   ]
  },
  {
   "cell_type": "code",
   "execution_count": 8,
   "id": "5d0cabd4",
   "metadata": {},
   "outputs": [
    {
     "data": {
      "text/plain": [
       "220"
      ]
     },
     "execution_count": 8,
     "metadata": {},
     "output_type": "execute_result"
    }
   ],
   "source": [
    "#double checking if the functions worked well\n",
    "transactions.isPayment.sum()\n",
    "#214 + 6 = 220"
   ]
  },
  {
   "cell_type": "markdown",
   "id": "92fbf86c",
   "metadata": {},
   "source": [
    "4. Likewise, a column named `isMovement` should be generated to show whether funds shifted away from the source account. In this column, a value of `1` will be assigned if the type is either \"CASH_OUT\" or \"TRANSFER,\" and a value of `0` otherwise."
   ]
  },
  {
   "cell_type": "code",
   "execution_count": 9,
   "id": "b6f82857",
   "metadata": {},
   "outputs": [],
   "source": [
    "transactions['isMovement'] = 0\n",
    "transactions.loc[transactions['type'].isin(['CASH_OUT', 'TRANSFER']), 'isMovement'] = 1"
   ]
  },
  {
   "cell_type": "code",
   "execution_count": 10,
   "id": "bb247da4",
   "metadata": {},
   "outputs": [
    {
     "data": {
      "text/plain": [
       "605"
      ]
     },
     "execution_count": 10,
     "metadata": {},
     "output_type": "execute_result"
    }
   ],
   "source": [
    "transactions.isMovement.sum()"
   ]
  },
  {
   "cell_type": "markdown",
   "id": "6e7bd5b4",
   "metadata": {},
   "source": [
    "5. In the investigation of financial fraud, an additional crucial aspect to consider would involve the distinction in value between the source and destination accounts. In this instance, our theory suggests that destination accounts showing a notably distinct value could raise suspicions of potential fraud. To proceed, we will establish a column termed `accountDiff`, which will contain the absolute difference between the values in the `oldbalanceOrg` and `oldbalanceDest` columns."
   ]
  },
  {
   "cell_type": "code",
   "execution_count": 11,
   "id": "af780698",
   "metadata": {},
   "outputs": [
    {
     "name": "stdout",
     "output_type": "stream",
     "text": [
      "Index(['step', 'type', 'amount', 'nameOrig', 'oldbalanceOrg', 'newbalanceOrig',\n",
      "       'nameDest', 'oldbalanceDest', 'newbalanceDest', 'isFraud', 'isPayment',\n",
      "       'isMovement', 'accountDiff'],\n",
      "      dtype='object')\n"
     ]
    }
   ],
   "source": [
    "# Create accountDiff field\n",
    "transactions['accountDiff'] = abs(transactions['oldbalanceDest'] - transactions['oldbalanceOrg'])\n",
    "\n",
    "print(transactions.columns)"
   ]
  },
  {
   "cell_type": "markdown",
   "id": "72bbceab",
   "metadata": {},
   "source": [
    "##### Feature selection, labeling, train and test\n",
    "\n",
    "6. Before the initiation of model training, the establishment of our features and label columns is a prerequisite. Within the context of this dataset, the column designated as our label is identified as `isFraud`. To proceed, a variable named `features` constructed as an array including the variables:\n",
    "\n",
    "- `amount`\n",
    "- `isPayment`\n",
    "- `isMovement`\n",
    "- `accountDiff`\n"
   ]
  },
  {
   "cell_type": "code",
   "execution_count": 12,
   "id": "e278bd82",
   "metadata": {},
   "outputs": [],
   "source": [
    "# Create features and label variables\n",
    "features = transactions[['amount','isPayment','isMovement','accountDiff']]\n",
    "label = transactions['isFraud']"
   ]
  },
  {
   "cell_type": "markdown",
   "id": "87e47d46",
   "metadata": {},
   "source": [
    "7. Split the data into training and test sets using sklearn‘s `train_test_split()` method."
   ]
  },
  {
   "cell_type": "code",
   "execution_count": 13,
   "id": "7c544ab1",
   "metadata": {},
   "outputs": [],
   "source": [
    "# Split dataset\n",
    "# Split dataset\n",
    "X_train, X_test, y_train, y_test = train_test_split(features, \n",
    "                                                    label, \n",
    "                                                    test_size=0.3)"
   ]
  },
  {
   "cell_type": "markdown",
   "id": "e5d7d777",
   "metadata": {},
   "source": [
    "#### Data Normalization\n",
    "\n",
    "8. Because sklearn's Logistic Regression implementation incorporates Regularization, it is essential to scale our feature data. This has been achieved using the StandardScaler object. The process includes applying `.fit_transform()` to the training features and later using `.transform()` on the test features."
   ]
  },
  {
   "cell_type": "code",
   "execution_count": 14,
   "id": "1ffe7239",
   "metadata": {},
   "outputs": [],
   "source": [
    "# Normalize the features variables\n",
    "scaler = StandardScaler()\n",
    "X_train = scaler.fit_transform(X_train)\n",
    "X_test = scaler.transform(X_test)"
   ]
  },
  {
   "cell_type": "markdown",
   "id": "7ef57661",
   "metadata": {},
   "source": [
    "9. A `LogisticRegression` model is generated using sklearn and is fitted onto the training data through the use of `.fit()`.\n",
    " The initial threshold used is the default value of 0.5."
   ]
  },
  {
   "cell_type": "code",
   "execution_count": 15,
   "id": "7a514091",
   "metadata": {},
   "outputs": [],
   "source": [
    "# Fit the model to the training data\n",
    "model = LogisticRegression()\n",
    "fraud_lr = model.fit(X_train, y_train)"
   ]
  },
  {
   "cell_type": "markdown",
   "id": "f22718bf",
   "metadata": {},
   "source": [
    "10. The model's `.score()` method is executed on the train and test data, and their relative score is then displayed.\n",
    "\n",
    "By scoring the model with the training data, the trained model evaluates the transactions and predicts which ones are fraudulent. The resulting score represents the accuracy, or the percentage of accurate classifications."
   ]
  },
  {
   "cell_type": "code",
   "execution_count": 17,
   "id": "0699c1f8",
   "metadata": {},
   "outputs": [],
   "source": [
    "# Save and print the predicted outcomes\n",
    "y_pred = fraud_lr.predict(X_test)"
   ]
  },
  {
   "cell_type": "code",
   "execution_count": 19,
   "id": "b4693041",
   "metadata": {},
   "outputs": [
    {
     "name": "stdout",
     "output_type": "stream",
     "text": [
      "confusion matrix: \n",
      "[[201   0]\n",
      " [ 50  49]]\n",
      "f1 score : 0.6621621621621622\n"
     ]
    }
   ],
   "source": [
    "# Print out the confusion matrix\n",
    "from sklearn.metrics import confusion_matrix\n",
    "print('confusion matrix: ')\n",
    "print(confusion_matrix(y_test, y_pred))\n",
    "\n",
    "# Print F1 score here:\n",
    "from sklearn.metrics import f1_score\n",
    "print('f1 score :', f1_score(y_test, y_pred))\n"
   ]
  },
  {
   "cell_type": "code",
   "execution_count": 15,
   "id": "e61fe2c6",
   "metadata": {},
   "outputs": [
    {
     "name": "stdout",
     "output_type": "stream",
     "text": [
      "Train accuracy : 0.8428571428571429\n",
      "Test accuracy : 0.8433333333333334\n"
     ]
    }
   ],
   "source": [
    "# Score the model on the test data\n",
    "print('Train accuracy :', fraud_lr.score(X_train, y_train))\n",
    "print('Test accuracy :', fraud_lr.score(X_test, y_test))"
   ]
  },
  {
   "cell_type": "markdown",
   "id": "7d5b8ef2",
   "metadata": {},
   "source": [
    "11. The coefficients for our model are printed to assess the significance of each feature column in the prediction process. It allows us to determine which feature holds the greatest importance and which one has the least impact in the prediction."
   ]
  },
  {
   "cell_type": "code",
   "execution_count": 16,
   "id": "b9586d8d",
   "metadata": {},
   "outputs": [
    {
     "data": {
      "text/plain": [
       "array([[ 2.30897274, -0.63733573,  2.08183223, -0.9664791 ]])"
      ]
     },
     "execution_count": 16,
     "metadata": {},
     "output_type": "execute_result"
    }
   ],
   "source": [
    "# Print the model coefficients\n",
    "fraud_lr.coef_"
   ]
  },
  {
   "cell_type": "code",
   "execution_count": 37,
   "id": "f3085c26",
   "metadata": {},
   "outputs": [
    {
     "data": {
      "text/plain": [
       "Index(['amount', 'isPayment', 'isMovement', 'accountDiff'], dtype='object')"
      ]
     },
     "execution_count": 37,
     "metadata": {},
     "output_type": "execute_result"
    }
   ],
   "source": [
    "features.columns"
   ]
  },
  {
   "cell_type": "markdown",
   "id": "62b8e895",
   "metadata": {},
   "source": [
    "The most impactful features based on the ranking: Amount, isMovement, isPayment, accountDif"
   ]
  },
  {
   "cell_type": "markdown",
   "id": "c066c89f",
   "metadata": {},
   "source": [
    "#### Model Prediction\n",
    "\n",
    "12. Our model will now be applied to process additional transactions that have passed through our systems. Four randomly created numpy arrays hold information about new sample transactions, labeled as \"New transaction data.\""
   ]
  },
  {
   "cell_type": "code",
   "execution_count": 17,
   "id": "dca3dcf5",
   "metadata": {},
   "outputs": [],
   "source": [
    "# New transaction data\n",
    "transaction1 = np.array([123456.78, 0.0, 1.0, 54670.1])\n",
    "transaction2 = np.array([98765.43, 1.0, 0.0, 8524.75])\n",
    "transaction3 = np.array([543678.31, 1.0, 0.0, 510025.5])\n",
    "transaction4 = np.array([28178, 0, 0, 254])\n",
    "\n",
    "# Combine new transactions into a single array\n",
    "sample_transactions = np.stack((transaction1, transaction2, transaction3, transaction4))\n",
    "sample_transactions"
   ]
  },
  {
   "cell_type": "markdown",
   "id": "e00b82fc",
   "metadata": {},
   "source": [
    "13. Considering that this Logistic Regression model was trained using scaled feature data, it is necessary to also scale the feature data for our prediction task .The `.transform()` method of `StandardScaler` object will be applied to the `sample_transactions` array."
   ]
  },
  {
   "cell_type": "code",
   "execution_count": 24,
   "id": "1ef91feb",
   "metadata": {},
   "outputs": [
    {
     "name": "stderr",
     "output_type": "stream",
     "text": [
      "C:\\ProgramData\\Anaconda3\\lib\\site-packages\\sklearn\\base.py:450: UserWarning: X does not have valid feature names, but StandardScaler was fitted with feature names\n",
      "  warnings.warn(\n"
     ]
    }
   ],
   "source": [
    "# Normalize the new transactions\n",
    "new_transactions_scaled = scaler.transform(sample_transactions)"
   ]
  },
  {
   "cell_type": "markdown",
   "id": "55c39a83",
   "metadata": {},
   "source": [
    "14. Fraudulent transactions are determined by utilizing the .predict() method of the model on the `new_transactions_scaled` array. The results are then printed for observation.\n",
    "\n",
    "To view the probabilities behind these predictions, the model's `.predict_proba()` method has been chosen. The 1st column signifies the probability of a non-fraudulent transaction, while the 2nd column indicates the probability of a fraudulent transaction—calculated by the model for the classification decision. With the threshold set at 0.5, none of the new transactions have been categorized as fraudulent transactions."
   ]
  },
  {
   "cell_type": "code",
   "execution_count": 28,
   "id": "ea9ddcb8",
   "metadata": {},
   "outputs": [
    {
     "name": "stdout",
     "output_type": "stream",
     "text": [
      "[0 0 0 0]\n",
      "[[0.60792627 0.39207373]\n",
      " [0.99803366 0.00196634]\n",
      " [0.99644741 0.00355259]\n",
      " [0.99201883 0.00798117]]\n"
     ]
    }
   ],
   "source": [
    "# Predict fraud on the new transactions\n",
    "print(model.predict(new_transactions_scaled))\n",
    "print(model.predict_proba(new_transactions_scaled))\n",
    "# Show probabilities on the new transactions"
   ]
  }
 ],
 "metadata": {
  "kernelspec": {
   "display_name": "Python 3 (ipykernel)",
   "language": "python",
   "name": "python3"
  },
  "language_info": {
   "codemirror_mode": {
    "name": "ipython",
    "version": 3
   },
   "file_extension": ".py",
   "mimetype": "text/x-python",
   "name": "python",
   "nbconvert_exporter": "python",
   "pygments_lexer": "ipython3",
   "version": "3.9.12"
  }
 },
 "nbformat": 4,
 "nbformat_minor": 5
}
